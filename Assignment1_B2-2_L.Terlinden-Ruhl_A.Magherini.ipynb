{
 "cells": [
  {
   "cell_type": "markdown",
   "metadata": {
    "cell_id": "926027974ead459da8f822c1b87dc9bc",
    "deepnote_cell_type": "markdown"
   },
   "source": [
    "# Appendix\n",
    "\n",
    "## Group 5\n",
    "## L. Terlinden-Ruhl (5863937),  A. Magherini (5838215)\n",
    "Site: USGS 09180500 COLORADO RIVER NEAR CISCO, UT"
   ]
  },
  {
   "cell_type": "markdown",
   "metadata": {
    "cell_id": "ae76d4ca974c4b1e9b8ede38819346e6",
    "deepnote_cell_type": "markdown"
   },
   "source": [
    "## 1 - River Selection and Data Collection"
   ]
  },
  {
   "cell_type": "code",
   "execution_count": 3,
   "metadata": {
    "cell_id": "a99b3f7c76ce4a9f882aa5087078cec0",
    "deepnote_cell_type": "code",
    "deepnote_to_be_reexecuted": false,
    "execution_millis": 1734,
    "execution_start": 1684949549691,
    "source_hash": "776317ee"
   },
   "outputs": [],
   "source": [
    "import pandas as pd\n",
    "import numpy as np\n",
    "import matplotlib.pyplot as plt\n",
    "import scipy.stats as sci\n",
    "import pathlib\n",
    "import datetime\n",
    "\n",
    "%matplotlib inline"
   ]
  },
  {
   "cell_type": "code",
   "execution_count": 4,
   "metadata": {
    "cell_id": "07b115d77f324a1b8e6be12edababfc5",
    "deepnote_cell_type": "code",
    "deepnote_to_be_reexecuted": false,
    "execution_millis": 45,
    "execution_start": 1684949551432,
    "source_hash": "aa210164"
   },
   "outputs": [],
   "source": [
    "# Create path to the data folder\n",
    "\n",
    "data_dir = pathlib.Path('/work').expanduser()\n",
    "site = list(sorted(data_dir.glob('Colorado river.txt')))\n",
    "site[0]"
   ]
  },
  {
   "cell_type": "code",
   "execution_count": 5,
   "metadata": {
    "cell_id": "cd0e97bb43a14241a39b7aae4ce3e7b3",
    "deepnote_cell_type": "code",
    "deepnote_to_be_reexecuted": false,
    "execution_millis": 275,
    "execution_start": 1684949551477,
    "source_hash": "10ebb8c6"
   },
   "outputs": [
    {
     "ename": "IndexError",
     "evalue": "list index out of range",
     "output_type": "error",
     "traceback": [
      "\u001b[1;31m---------------------------------------------------------------------------\u001b[0m",
      "\u001b[1;31mIndexError\u001b[0m                                Traceback (most recent call last)",
      "\u001b[1;32m~\\AppData\\Local\\Temp\\ipykernel_29736\\2365974701.py\u001b[0m in \u001b[0;36m<module>\u001b[1;34m\u001b[0m\n\u001b[1;32m----> 1\u001b[1;33m df = pd.read_csv(site[0], skiprows = 49, header = 0, \n\u001b[0m\u001b[0;32m      2\u001b[0m                      sep='\\t', engine='python').drop(['agency_cd', 'site_no'], axis = 1).drop([0], axis = 0)\n",
      "\u001b[1;31mIndexError\u001b[0m: list index out of range"
     ]
    }
   ],
   "source": [
    "df = pd.read_csv(site[0], skiprows = 49, header = 0, \n",
    "                     sep='\\t', engine='python').drop(['agency_cd', 'site_no'], axis = 1).drop([0], axis = 0)"
   ]
  },
  {
   "cell_type": "code",
   "execution_count": null,
   "metadata": {
    "cell_id": "5ae7e0edc29e46a88d4155fb1ce714dd",
    "deepnote_cell_type": "code",
    "deepnote_to_be_reexecuted": false,
    "execution_millis": 2,
    "execution_start": 1684949551766,
    "source_hash": "3df4aa6b"
   },
   "outputs": [],
   "source": [
    "# Drop columns that will not be used\n",
    "\n",
    "df.drop(df.columns[12:], axis =1, inplace = True)\n",
    "df.drop(df.columns[1:3], axis = 1, inplace = True)\n",
    "df.drop(df.columns[1:3], axis = 1, inplace = True)\n",
    "df.drop(df.columns[2:7], axis = 1, inplace = True)"
   ]
  },
  {
   "cell_type": "code",
   "execution_count": null,
   "metadata": {
    "cell_id": "b1e2a5cf1e3a4a4ea936987e89c79f57",
    "deepnote_cell_type": "code",
    "deepnote_to_be_reexecuted": false,
    "execution_millis": 47,
    "execution_start": 1684949551781,
    "source_hash": "f20ccdd"
   },
   "outputs": [],
   "source": [
    "# sediment discharge stops recording in 1984, discharge until 2022\n",
    "\n",
    "# Rename columns, for better reference\n",
    "\n",
    "df.rename(columns = {'datetime': 'Date',\n",
    "                     '142741_00060_00003': r'Discharge $(m^3 s^{-1})$',\n",
    "                     '142745_80155_00003': r'Suspended sediment discharge $(ton$ $day^{-1})$'\n",
    "                     }, inplace = True)\n",
    "\n",
    "# store column names making it easier to call\n",
    "col = df.columns.values"
   ]
  },
  {
   "cell_type": "code",
   "execution_count": null,
   "metadata": {
    "cell_id": "6d421d502cde400e9ae6867d9b8c3360",
    "deepnote_cell_type": "code",
    "deepnote_table_loading": false,
    "deepnote_table_state": {
     "filters": [],
     "pageIndex": 2704,
     "pageSize": 10,
     "sortBy": []
    },
    "deepnote_to_be_reexecuted": false,
    "execution_millis": 158,
    "execution_start": 1684949551826,
    "source_hash": "31751fcb"
   },
   "outputs": [],
   "source": [
    "# change dtype of columns to manipulate data more easily\n",
    "df[col[1]] = df[col[1]].astype('int') * 0.0283168\n",
    "df[col[2]] = df[col[2]].astype('float') * 0.91\n",
    "df['Date'] = pd.to_datetime(df['Date'])\n",
    "df"
   ]
  },
  {
   "cell_type": "code",
   "execution_count": null,
   "metadata": {
    "cell_id": "c4eddaa796c64318836f33fc40096b69",
    "deepnote_cell_type": "code",
    "deepnote_to_be_reexecuted": false,
    "execution_millis": 1855,
    "execution_start": 1684949552027,
    "source_hash": "5206b16e"
   },
   "outputs": [],
   "source": [
    "# Easy plots to understand the data (question 1)\n",
    "df.plot(kind = 'scatter', x = 'Date',\n",
    "        y = col[1], title = 'Timeseries of Discharge', color='b');    \n",
    "plt.show()\n",
    "df.plot(kind = 'scatter', x = 'Date',\n",
    "        y = col[2],\n",
    "        title = 'Timeseries of Sediment Discharge', color='b');    \n",
    "plt.show()\n",
    "df.plot(kind = 'scatter', x = col[1],\n",
    "        y = col[2], title = 'Bivariate analysis of complete dataset', color='b');    \n",
    "plt.show()\n",
    "df.hist(col[1], density = True, color='b')\n",
    "plt.ylabel('Density, [-]')\n",
    "plt.show()\n",
    "df.hist(col[2], density = True, color='b')\n",
    "plt.ylabel('Density, [-]')\n",
    "plt.show()"
   ]
  },
  {
   "cell_type": "code",
   "execution_count": null,
   "metadata": {
    "cell_id": "f5ea917451cd411998027f79c0794fbd",
    "deepnote_cell_type": "code",
    "deepnote_to_be_reexecuted": false,
    "execution_millis": 1,
    "execution_start": 1684949553884,
    "source_hash": "464bc305"
   },
   "outputs": [],
   "source": [
    "def yearly_maxima(data, column):\n",
    "    '''\n",
    "    Function that calculates the yearly maximum of parameters in data frame for the requested column index\n",
    "    '''\n",
    "    col = data.columns.values\n",
    "    idx_max = data.groupby(pd.DatetimeIndex(data[col[0]]).year)[col[column]].idxmax()\n",
    "    max_list = data.loc[idx_max]\n",
    "    return max_list"
   ]
  },
  {
   "cell_type": "code",
   "execution_count": null,
   "metadata": {
    "cell_id": "1b35a44ccb8e4c2ab038d3ddd8c8a9be",
    "deepnote_cell_type": "code",
    "deepnote_to_be_reexecuted": false,
    "execution_millis": 35,
    "execution_start": 1684949553887,
    "source_hash": "78760223"
   },
   "outputs": [],
   "source": [
    "yearly_maxima_discharge = yearly_maxima(df, 1) # maxima of discharge, accompanying values of sediment\n",
    "yearly_maxima_discharge"
   ]
  },
  {
   "cell_type": "code",
   "execution_count": null,
   "metadata": {
    "cell_id": "4021de6b65c648cea62a29686c59d8b2",
    "deepnote_cell_type": "code",
    "deepnote_to_be_reexecuted": false,
    "execution_millis": 715,
    "execution_start": 1684949553952,
    "source_hash": "b31e5e60"
   },
   "outputs": [],
   "source": [
    "# Plot flow discharge historic data with maxima\n",
    "df.plot(kind = 'scatter', x= 'Date', y = col[1], color='b')\n",
    "plt.scatter(yearly_maxima_discharge['Date'], yearly_maxima_discharge[col[1]],\n",
    "            40, 'r', label='yearly maximum')\n",
    "plt.title(col[1])\n",
    "plt.legend(loc='best');"
   ]
  },
  {
   "cell_type": "markdown",
   "metadata": {
    "cell_id": "f12192c0b3df4382afc62ed1c3a60f67",
    "deepnote_cell_type": "markdown"
   },
   "source": [
    "## 2 - Distribution fitting"
   ]
  },
  {
   "cell_type": "code",
   "execution_count": null,
   "metadata": {
    "cell_id": "d64eafe4534d4c5a91f92c734764c902",
    "deepnote_cell_type": "code",
    "deepnote_to_be_reexecuted": false,
    "execution_millis": 31,
    "execution_start": 1684949554666,
    "source_hash": "f88152d9"
   },
   "outputs": [],
   "source": [
    "df.describe()"
   ]
  },
  {
   "cell_type": "code",
   "execution_count": null,
   "metadata": {
    "cell_id": "b38ebd9249dd43918dc7634b068aa4e8",
    "deepnote_cell_type": "code",
    "deepnote_to_be_reexecuted": false,
    "execution_millis": 23,
    "execution_start": 1684949554705,
    "source_hash": "21dedd68"
   },
   "outputs": [],
   "source": [
    "#annual maxima statistics of flow discharge and related sediment discharge\n",
    "\n",
    "yearly_maxima_discharge.describe()"
   ]
  },
  {
   "cell_type": "markdown",
   "metadata": {
    "cell_id": "ebc12298d3d542a49f720659c9a8ee57",
    "deepnote_cell_type": "markdown"
   },
   "source": [
    "## Fit a GEV distribution to annual maxima"
   ]
  },
  {
   "cell_type": "code",
   "execution_count": null,
   "metadata": {
    "cell_id": "84c0992ec081406c931311447d49defe",
    "deepnote_cell_type": "code",
    "deepnote_to_be_reexecuted": false,
    "execution_millis": 8,
    "execution_start": 1684949554735,
    "source_hash": "f675c72c"
   },
   "outputs": [],
   "source": [
    "def calculate_ecdf(extreme_value_data, column):\n",
    "    \"\"\"\n",
    "    Fit an emperical cumulative distribution function to known values for a given column index \n",
    "    \"\"\"\n",
    "    col = extreme_value_data.columns.values          \n",
    "    # Sort the dataframe from high to low values based on the column of the extreme value     \n",
    "    sorted_data = extreme_value_data.sort_values(by = col[column], ascending=True)\n",
    "\n",
    "    sorted_data = sorted_data[2:] # removing the first entry gives a better fit for genextreme\n",
    "\n",
    "    sorted_data.reset_index(drop=True, inplace=True)     \n",
    "    # Reset the index, because in this specific case we have to work with an index starting from 1 not 0     \n",
    "    sorted_data.index = sorted_data.index + 1      \n",
    "    # Calculating the total length of the dataframe     \n",
    "    N = len(sorted_data[col[column]])       \n",
    "    # Filling this new column with the F(x) score     \n",
    "    sorted_data['F_x'] = sorted_data.index / (N + 1)     \n",
    "    ecdf = sorted_data[['F_x', col[column]]]   \n",
    "    # Return the dataframe with the added column     \n",
    "    return ecdf "
   ]
  },
  {
   "cell_type": "code",
   "execution_count": null,
   "metadata": {
    "cell_id": "49ba78e126c0445aba0f470e887bb289",
    "deepnote_cell_type": "code",
    "deepnote_to_be_reexecuted": false,
    "execution_millis": 25,
    "execution_start": 1684949554756,
    "source_hash": "bdfbc896"
   },
   "outputs": [],
   "source": [
    "ecdf_blockmax = calculate_ecdf(yearly_maxima_discharge, 1)\n",
    "ecdf_blockmax.head()"
   ]
  },
  {
   "cell_type": "code",
   "execution_count": null,
   "metadata": {
    "cell_id": "1048ef7633884b6980f7c0fa70e433ec",
    "deepnote_cell_type": "code",
    "deepnote_to_be_reexecuted": false,
    "execution_millis": 2,
    "execution_start": 1684949554835,
    "source_hash": "40ba5c31"
   },
   "outputs": [],
   "source": [
    "def plot_density_functions(emperical_df, x, pdf, cdf, CI_1, CI_2, quantiles, method, curve):\n",
    "    '''\n",
    "    Plots pdf, cdf, return period and QQ plot for a given function. Confidence intervals are included in \n",
    "    return period graph.\n",
    "    '''\n",
    "    # pdf\n",
    "    emperical_df.hist(col[1], density = True, label = 'Emperical Histogram', color='b')\n",
    "    plt.title('PDF from' + method + 'using' + curve) \n",
    "    plt.plot(x, pdf, 'r', label = 'Fitted' + curve)\n",
    "    plt.ylabel('f(x)') \n",
    "    plt.xlabel(col[1]) \n",
    "    plt.grid() \n",
    "    plt.legend()\n",
    "    if curve == ' genextreme': plt.yscale('log')\n",
    "    plt.show()\n",
    "    # cdf\n",
    "    plt.scatter(emperical_df[col[1]], emperical_df['F_x'], 40, 'k', label = 'Empirical cdf') \n",
    "    plt.title('CDF from' + method + 'using' + curve) \n",
    "    plt.plot(emperical_df[col[1]], cdf, 'r', label = 'Fitted' + curve)\n",
    "    plt.ylabel('F(x)') \n",
    "    plt.xlabel(col[1]) \n",
    "    plt.grid() \n",
    "    plt.legend()\n",
    "    plt.ylim([0, 1])\n",
    "    plt.show()\n",
    "    # inv cdf\n",
    "    plt.scatter(1 / (1 - emperical_df['F_x']), emperical_df[col[1]], 40, 'k',\n",
    "                label = 'Empirical inverse cdf') \n",
    "    plt.title('Return Period from' + method + 'using' + curve) \n",
    "    plt.plot(1 / (1 - cdf), emperical_df[col[1]], 'r', label = 'Fitted' + curve)\n",
    "    plt.plot(1 / (1 - CI_1), emperical_df[col[1]], 'b', label = 'CI' + curve) \n",
    "    plt.plot(1 / (1 - CI_2), emperical_df[col[1]], 'b') \n",
    "    plt.xlabel('Return Period [years]') \n",
    "    plt.ylabel(col[1]) \n",
    "    plt.xscale('log')\n",
    "    plt.grid() \n",
    "    plt.legend()\n",
    "    plt.show()\n",
    "    # QQ Plot\n",
    "    empirical_quantiles = emperical_df[col[1]]\n",
    "\n",
    "    plt.figure(figsize = (6, 6))\n",
    "    plt.scatter(empirical_quantiles, quantiles, 40, 'k', label = curve)\n",
    "    linear = np.array([250, 2000])\n",
    "    plt.plot(linear, linear, label = 'Perfect fit')\n",
    "    plt.title('QQ-plot for' + curve)\n",
    "    plt.ylabel(r'Theoretical quantiles (Discharge [$m^3$ $s^{-1}$])')\n",
    "    plt.xlabel(r'Empirical quantiles (Discharge [$m^3$ $s^{-1}$])')\n",
    "    plt.grid()\n",
    "    plt.legend()\n",
    "    plt.show()"
   ]
  },
  {
   "cell_type": "code",
   "execution_count": null,
   "metadata": {
    "cell_id": "d18910161fb84df29413fe18f01e7725",
    "deepnote_cell_type": "code",
    "deepnote_to_be_reexecuted": false,
    "execution_millis": 1743,
    "execution_start": 1684950803393,
    "source_hash": "e2cfd98b"
   },
   "outputs": [],
   "source": [
    "# compute parameters and corresponding pdf, cdf, CI, quantiles for GEV and plot them\n",
    "GEV_param_blockmax = sci.genextreme.fit(ecdf_blockmax[col[1]], method = 'mle')\n",
    "\n",
    "spacing = np.linspace(min(ecdf_blockmax[col[1]]), max(ecdf_blockmax[col[1]]),\n",
    "                      len(ecdf_blockmax[col[1]]))\n",
    "GEV_pdf = sci.genextreme.pdf(spacing, GEV_param_blockmax[0],\n",
    "                             GEV_param_blockmax[1], GEV_param_blockmax[2])\n",
    "GEV_cdf = sci.genextreme.cdf(ecdf_blockmax[col[1]], GEV_param_blockmax[0],\n",
    "                             GEV_param_blockmax[1], GEV_param_blockmax[2])\n",
    "GEV_quantiles = sci.genextreme.ppf(ecdf_blockmax['F_x'], GEV_param_blockmax[0],\n",
    "                                   GEV_param_blockmax[1], GEV_param_blockmax[2])\n",
    "\n",
    "sigma = 0.05 * ecdf_blockmax[col[1]]\n",
    "k95 = sci.norm.ppf(1-0.05/2)\n",
    "k95_sig = k95*sigma\n",
    "\n",
    "GEV_cdf_ci1 = sci.genextreme.cdf(ecdf_blockmax[col[1]] + k95_sig, GEV_param_blockmax[0],\n",
    "                             GEV_param_blockmax[1], GEV_param_blockmax[2])\n",
    "GEV_cdf_ci2 = sci.genextreme.cdf(ecdf_blockmax[col[1]] - k95_sig, GEV_param_blockmax[0],\n",
    "                             GEV_param_blockmax[1], GEV_param_blockmax[2])\n",
    "\n",
    "plot_density_functions(ecdf_blockmax, spacing, GEV_pdf, GEV_cdf, GEV_cdf_ci1, GEV_cdf_ci2, \n",
    "                       GEV_quantiles, ' block maxima ', ' GEV')"
   ]
  },
  {
   "cell_type": "markdown",
   "metadata": {
    "cell_id": "e7952b1d88bd465ca941e766564d169f",
    "deepnote_cell_type": "markdown"
   },
   "source": [
    "Removing the first two data points was required in order to have the GEV fit."
   ]
  },
  {
   "cell_type": "markdown",
   "metadata": {
    "cell_id": "82fb872931e041e48eef07a4aee1bf57",
    "deepnote_cell_type": "markdown"
   },
   "source": [
    "## Gumbel distribution"
   ]
  },
  {
   "cell_type": "code",
   "execution_count": null,
   "metadata": {
    "cell_id": "0f32113854e24727a28c519f0ac9fc6a",
    "deepnote_cell_type": "code",
    "deepnote_to_be_reexecuted": false,
    "execution_millis": 11,
    "execution_start": 1684949556916,
    "source_hash": "625dcb3b"
   },
   "outputs": [],
   "source": [
    "# compute parameters and corresponding pdf, cdf, CI, quantiles for Gumbel and plot them\n",
    "\n",
    "gamma = 0.5772156649   #Euler constant\n",
    "\n",
    "def alpha_beta (data):   # coefficient\n",
    "    beta = (np.sqrt(6) * np.std(data)) / (np.pi)\n",
    "    alpha = np.mean(data) - gamma * beta\n",
    "    return alpha, beta\n",
    "\n",
    "def gumbel_pdf(data, x):\n",
    "    '''\n",
    "    Function that computes the Gumbel PDF\n",
    "\n",
    "    Input: data = data\n",
    "           x    = spacing of output\n",
    "    \n",
    "    Output: pdf = Gumbel PDF\n",
    "    '''\n",
    "    alpha, beta = alpha_beta(data)\n",
    "\n",
    "    pdf = sci.gumbel_r.pdf(x, loc = alpha, scale = beta)\n",
    "    return pdf\n",
    "\n",
    "def gumbel_cdf(data, x):\n",
    "    '''\n",
    "    Function that computes the Gumbel CDF\n",
    "\n",
    "    Input: data = data\n",
    "           x    = spacing of output\n",
    "    \n",
    "    Output: pdf = Gumbel CDF\n",
    "    '''\n",
    "    alpha, beta = alpha_beta(data)\n",
    "\n",
    "    cdf = sci.gumbel_r.cdf(x, loc = alpha, scale = beta)\n",
    "    return cdf\n",
    "\n",
    "def gumbel_ppf(data, probability):\n",
    "    '''\n",
    "    Function that computes the Gumbel CDF\n",
    "\n",
    "    Input: data = data\n",
    "           probability = emperical cdf of data\n",
    "           x    = spacing of output\n",
    "    \n",
    "    Output: pdf = Gumbel CDF\n",
    "    '''\n",
    "    alpha, beta = alpha_beta(data)\n",
    "\n",
    "    ppf = sci.gumbel_r.ppf(probability, loc = alpha, scale = beta)\n",
    "    return ppf\n",
    "\n",
    "gum_pdf = gumbel_pdf(ecdf_blockmax[col[1]], spacing)\n",
    "gum_cdf = gumbel_cdf(ecdf_blockmax[col[1]], ecdf_blockmax[col[1]])\n",
    "gum_ppf = gumbel_ppf(ecdf_blockmax[col[1]], ecdf_blockmax['F_x'])\n",
    "\n",
    "gum_cdf_ci1 = gumbel_cdf(ecdf_blockmax[col[1]] + k95_sig, ecdf_blockmax[col[1]])\n",
    "gum_cdf_ci2 = gumbel_cdf(ecdf_blockmax[col[1]] - k95_sig, ecdf_blockmax[col[1]])"
   ]
  },
  {
   "cell_type": "code",
   "execution_count": null,
   "metadata": {
    "cell_id": "89be3bffafe7411ba5130524af26480b",
    "deepnote_cell_type": "code",
    "deepnote_to_be_reexecuted": false,
    "execution_millis": 1331,
    "execution_start": 1684949556917,
    "source_hash": "5c39c539"
   },
   "outputs": [],
   "source": [
    "plot_density_functions(ecdf_blockmax, spacing, gum_pdf, gum_cdf, gum_cdf_ci1, gum_cdf_ci2,\n",
    "                       gum_ppf, ' block maxima ', ' Gumbel')"
   ]
  },
  {
   "cell_type": "markdown",
   "metadata": {
    "cell_id": "06dc3eb324c84d4c81929fc70e339e5f",
    "deepnote_cell_type": "markdown"
   },
   "source": [
    "## Comparison of both distributions"
   ]
  },
  {
   "cell_type": "code",
   "execution_count": null,
   "metadata": {
    "cell_id": "91ca4e345a604c5ba83a676a2a1d7ce4",
    "deepnote_cell_type": "code",
    "deepnote_to_be_reexecuted": false,
    "execution_millis": 563,
    "execution_start": 1684949558252,
    "source_hash": "5cec659a"
   },
   "outputs": [],
   "source": [
    "ext_spacing = np.linspace(200, 3000)\n",
    "gum_cdf_ext = gumbel_cdf(ecdf_blockmax[col[1]], ext_spacing)\n",
    "GEV_cdf_ext = sci.genextreme.cdf(ext_spacing, GEV_param_blockmax[0],\n",
    "                             GEV_param_blockmax[1], GEV_param_blockmax[2])\n",
    "\n",
    "plt.scatter(1 / (1 - ecdf_blockmax['F_x']), ecdf_blockmax[col[1]], 40, 'k',\n",
    "            label = 'Empirical inverse cdf')\n",
    "plt.title('Comparison of Return Period from' + method + 'using GEV and Gumbel') \n",
    "plt.plot(1 / (1 - gum_cdf_ext), ext_spacing, label = 'Fitted Gumbel')\n",
    "plt.plot(1 / (1 - GEV_cdf_ext), ext_spacing, label = 'Fitted GEV')\n",
    "plt.xlabel('Return Period [years]') \n",
    "plt.ylabel(col[1]) \n",
    "plt.xscale('log')\n",
    "plt.grid() \n",
    "plt.legend()\n",
    "plt.show()"
   ]
  },
  {
   "cell_type": "markdown",
   "metadata": {
    "cell_id": "19db71e530914f5ab5775ca663d482a0",
    "deepnote_cell_type": "markdown"
   },
   "source": [
    "## 3 - Event evaluation"
   ]
  },
  {
   "cell_type": "code",
   "execution_count": null,
   "metadata": {
    "cell_id": "0d11ccc6fd4747059a6152ed32211e02",
    "deepnote_cell_type": "code",
    "deepnote_to_be_reexecuted": false,
    "execution_millis": 166,
    "execution_start": 1684949558812,
    "source_hash": "8af48dd4"
   },
   "outputs": [],
   "source": [
    "# drop all rows with nan values to make the columns the same length (with respect to usuable data)\n",
    "df = df.iloc[:len(df[col[2]].dropna())]\n",
    "df"
   ]
  },
  {
   "cell_type": "code",
   "execution_count": null,
   "metadata": {
    "cell_id": "7c72cec62bc74e9ba8b17ed808404db1",
    "deepnote_cell_type": "code",
    "deepnote_to_be_reexecuted": false,
    "execution_millis": 32,
    "execution_start": 1684949558982,
    "source_hash": "3a6deb2f"
   },
   "outputs": [],
   "source": [
    "yearly_maxima_dis = yearly_maxima(df, 1)  # maxima of discharge, accompanying values sediment\n",
    "yearly_maxima_dis"
   ]
  },
  {
   "cell_type": "code",
   "execution_count": null,
   "metadata": {
    "cell_id": "beb1b90c03a245e98fc660b568b9ff42",
    "deepnote_cell_type": "code",
    "deepnote_to_be_reexecuted": false,
    "execution_millis": 19,
    "execution_start": 1684949559053,
    "source_hash": "89b1052d"
   },
   "outputs": [],
   "source": [
    "yearly_maxima_sed = yearly_maxima(df, 2)  # maxima of sediment, accompanying values of discharge\n",
    "yearly_maxima_sed"
   ]
  },
  {
   "cell_type": "code",
   "execution_count": null,
   "metadata": {
    "cell_id": "afdc304ef8b7450f843316f9bcc0c2e6",
    "deepnote_cell_type": "code",
    "deepnote_to_be_reexecuted": false,
    "execution_millis": 497,
    "execution_start": 1684949559115,
    "source_hash": "493d467a"
   },
   "outputs": [],
   "source": [
    "# Plot suspended sediment discharge historic data with maxima\n",
    "df.plot(kind = 'scatter', x= 'Date', y = col[2], color='b')\n",
    "plt.scatter(yearly_maxima_sed['Date'], yearly_maxima_sed[col[2]],\n",
    "            40, 'r', label='yearly maximum')\n",
    "plt.title(col[2])\n",
    "plt.legend(loc='best');"
   ]
  },
  {
   "cell_type": "code",
   "execution_count": null,
   "metadata": {
    "cell_id": "ef111083956b47939f9eacdd3be48247",
    "deepnote_cell_type": "code",
    "deepnote_to_be_reexecuted": false,
    "execution_millis": 15,
    "execution_start": 1684949559622,
    "source_hash": "d8e45bef"
   },
   "outputs": [],
   "source": [
    "#annual maxima statistics of sediment discharge and related flow discharge \n",
    "\n",
    "## this results are different from the previous ones!\n",
    "\n",
    "yearly_maxima_sed.describe()"
   ]
  },
  {
   "cell_type": "code",
   "execution_count": null,
   "metadata": {
    "cell_id": "11be9ba4dd024a358b9ae3a72107052c",
    "deepnote_cell_type": "code",
    "deepnote_to_be_reexecuted": false,
    "execution_millis": 8,
    "execution_start": 1684949559653,
    "source_hash": "61bad1eb"
   },
   "outputs": [],
   "source": [
    "def calculate_covariance(X1, X2):\n",
    "    '''\n",
    "    Computes covariance for 2 given variables\n",
    "    '''\n",
    "    mean_x1 = np.mean(X1)\n",
    "    mean_x2 = np.mean(X2)\n",
    "    diff_x1 = [item-mean_x1 for item in X1]\n",
    "    diff_x2 = [item-mean_x2 for item in X2]\n",
    "    product = [a*b for a,b in zip(diff_x1,diff_x2)]\n",
    "    covariance = np.mean(product)\n",
    "    return covariance\n",
    "\n",
    "def pearson_correlation(X1, X2):\n",
    "    '''\n",
    "    Computes correlation coefficent for 2 given variables\n",
    "    '''\n",
    "    covariance = calculate_covariance(X1, X2)\n",
    "    correl_coeff = covariance/(np.std(X1)*np.std(X2))\n",
    "    return correl_coeff"
   ]
  },
  {
   "cell_type": "code",
   "execution_count": null,
   "metadata": {
    "cell_id": "12f5abac69e54358aeb68744e96560be",
    "deepnote_cell_type": "code",
    "deepnote_to_be_reexecuted": false,
    "execution_millis": 348,
    "execution_start": 1684949559661,
    "source_hash": "3d5a6214"
   },
   "outputs": [],
   "source": [
    "df.plot(kind = 'scatter', x = col[1],\n",
    "        y = col[2], title = 'Bivariate analysis of complete dataset', c = 'b');\n",
    "correl_coeff = pearson_correlation(df[col[1]], df[col[2]])\n",
    "plt.text(1500, 800000, f'rho={correl_coeff:.3f}')   \n",
    "plt.show()"
   ]
  },
  {
   "cell_type": "code",
   "execution_count": null,
   "metadata": {
    "cell_id": "a0033af44bbc4c64be84c7c39164051c",
    "deepnote_cell_type": "code",
    "deepnote_to_be_reexecuted": false,
    "execution_millis": 6,
    "execution_start": 1684950401003,
    "source_hash": "55d17ef6"
   },
   "outputs": [],
   "source": [
    "def bivariate_plot(df, type, period):\n",
    "    '''\n",
    "    Plots the bivariate analysis depending on which procedure was used (mean, max) and the period (week, year)\n",
    "    Color map makes it easy to distinguish temporal trend (if present)\n",
    "    Correlation Coefficient is added as a text to show correlation\n",
    "    '''\n",
    "    df.plot(kind = 'scatter', x = col[1], y = col[2], c = period, cmap = 'jet',\n",
    "            title = 'Bivariate Analysis using the ' + type + ' over each ' + period);\n",
    "    rho = pearson_correlation(df[col[1]], df[col[2]])\n",
    "    plt.text(500, 80000, f'rho={rho:.3f}');\n",
    "    plt.show()"
   ]
  },
  {
   "cell_type": "code",
   "execution_count": null,
   "metadata": {
    "cell_id": "3ec937cbd362442382b5a6431a883d92",
    "deepnote_cell_type": "code",
    "deepnote_to_be_reexecuted": false,
    "execution_millis": 26,
    "execution_start": 1684950401023,
    "source_hash": "938b3072"
   },
   "outputs": [],
   "source": [
    "yearly_maxima = pd.DataFrame({col[1]: yearly_maxima_dis[col[1]].values, col[2]: yearly_maxima_sed[col[2]].values,\n",
    "                              'year': np.arange(1949, 1985)})\n",
    "yearly_maxima.head()"
   ]
  },
  {
   "cell_type": "code",
   "execution_count": null,
   "metadata": {
    "cell_id": "67805ec0988c4d5f8394b9d7ce4cfb56",
    "deepnote_cell_type": "code",
    "deepnote_to_be_reexecuted": false,
    "execution_millis": 442,
    "execution_start": 1684950401076,
    "source_hash": "2f219bc3"
   },
   "outputs": [],
   "source": [
    "bivariate_plot(yearly_maxima, 'max', 'year')"
   ]
  },
  {
   "cell_type": "code",
   "execution_count": null,
   "metadata": {
    "cell_id": "a5fe6479914144c0a98b3267df0e4cb8",
    "deepnote_cell_type": "code",
    "deepnote_to_be_reexecuted": false,
    "execution_millis": 10,
    "execution_start": 1684950401511,
    "source_hash": "8879ab9a"
   },
   "outputs": [],
   "source": [
    "def weekly_max(data, column):\n",
    "    '''\n",
    "    Function that calculates the weekly maximum for a data frame for a given column index\n",
    "    '''\n",
    "    col = data.columns.values\n",
    "    id_max = data.groupby(pd.DatetimeIndex(data[col[0]]).week)[col[column]].idxmax()\n",
    "    max_list = data.loc[id_max]\n",
    "    return max_list"
   ]
  },
  {
   "cell_type": "code",
   "execution_count": null,
   "metadata": {
    "cell_id": "bb14c1aac48545cba7551f8ecfdb8dc2",
    "deepnote_cell_type": "code",
    "deepnote_to_be_reexecuted": false,
    "execution_millis": 15,
    "execution_start": 1684950401532,
    "source_hash": "759ca2e"
   },
   "outputs": [],
   "source": [
    "def weekly_mean(data, column):\n",
    "    '''\n",
    "    Function that calculates the weekly mean for a data frame for a given column index\n",
    "    '''\n",
    "    col = data.columns.values\n",
    "    list_mean = data.groupby(pd.DatetimeIndex(data[col[0]]).week)[col[column]].mean()\n",
    "    return list_mean"
   ]
  },
  {
   "cell_type": "code",
   "execution_count": null,
   "metadata": {
    "cell_id": "8f4d3e8b781b473f8fe9cb099a497105",
    "deepnote_cell_type": "code",
    "deepnote_to_be_reexecuted": false,
    "execution_millis": 83,
    "execution_start": 1684950401533,
    "source_hash": "463f0b99"
   },
   "outputs": [],
   "source": [
    "dis_week_max = weekly_max(df, 1)\n",
    "sed_week_max = weekly_max(df, 2)\n",
    "week_max = pd.DataFrame({col[1]: dis_week_max[col[1]].values, col[2]: sed_week_max[col[2]].values, 'week': np.arange(1, 54)})\n",
    "week_max.head()"
   ]
  },
  {
   "cell_type": "code",
   "execution_count": null,
   "metadata": {
    "cell_id": "bf18c632451f4f2e8f82d5e55a89e382",
    "deepnote_cell_type": "code",
    "deepnote_to_be_reexecuted": false,
    "execution_millis": 486,
    "execution_start": 1684950401637,
    "source_hash": "6737d738"
   },
   "outputs": [],
   "source": [
    "bivariate_plot(week_max, 'max', 'week')"
   ]
  },
  {
   "cell_type": "code",
   "execution_count": null,
   "metadata": {
    "cell_id": "71d2c72da5004cdcbf1a6fcf6b3c754d",
    "deepnote_cell_type": "code",
    "deepnote_to_be_reexecuted": false,
    "execution_millis": 40,
    "execution_start": 1684950402126,
    "source_hash": "9b0e74bc"
   },
   "outputs": [],
   "source": [
    "dis_week_mean = weekly_mean(df, 1)\n",
    "sed_week_mean = weekly_mean(df, 2)\n",
    "week_mean = pd.DataFrame({col[1]: dis_week_mean.values, col[2]: sed_week_mean, 'week': np.arange(1, 54)})\n",
    "week_mean.head()"
   ]
  },
  {
   "cell_type": "code",
   "execution_count": null,
   "metadata": {
    "cell_id": "e83b85d8973a4f0a887ea50a71d44398",
    "deepnote_cell_type": "code",
    "deepnote_to_be_reexecuted": false,
    "execution_millis": 478,
    "execution_start": 1684950402179,
    "source_hash": "7aadc355"
   },
   "outputs": [],
   "source": [
    "bivariate_plot(week_mean, 'mean', 'week')"
   ]
  },
  {
   "cell_type": "markdown",
   "metadata": {
    "created_in_deepnote_cell": true,
    "deepnote_cell_type": "markdown"
   },
   "source": [
    "<a style='text-decoration:none;line-height:16px;display:flex;color:#5B5B62;padding:10px;justify-content:end;' href='https://deepnote.com?utm_source=created-in-deepnote-cell&projectId=ce1ac4c0-44bb-4e75-a664-549207195a6b' target=\"_blank\">\n",
    "<img alt='Created in deepnote.com' style='display:inline;max-height:16px;margin:0px;margin-right:7.5px;' src='data:image/svg+xml;base64,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' > </img>\n",
    "Created in <span style='font-weight:600;margin-left:4px;'>Deepnote</span></a>"
   ]
  }
 ],
 "metadata": {
  "deepnote": {},
  "deepnote_execution_queue": [],
  "deepnote_notebook_id": "471cb6f5386440df8c6cbc8afd5c8d4e",
  "deepnote_persisted_session": {
   "createdAt": "2023-05-24T18:32:37.551Z"
  },
  "kernelspec": {
   "display_name": "Python 3 (ipykernel)",
   "language": "python",
   "name": "python3"
  },
  "language_info": {
   "codemirror_mode": {
    "name": "ipython",
    "version": 3
   },
   "file_extension": ".py",
   "mimetype": "text/x-python",
   "name": "python",
   "nbconvert_exporter": "python",
   "pygments_lexer": "ipython3",
   "version": "3.9.13"
  }
 },
 "nbformat": 4,
 "nbformat_minor": 1
}
